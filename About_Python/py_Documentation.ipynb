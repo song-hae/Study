{
 "cells": [
  {
   "attachments": {},
   "cell_type": "markdown",
   "metadata": {},
   "source": [
    "컬렉션을 이터레이트 하는 동안 같은 컬렉션을 수정하는 코드는 올바르게 동작하도록 만들기 힘듭니다. 대신, 보통 컬렉션의 복사본으로 루프를 만들거나 새 컬렉션을 만드는 것이 더 간단합니다.\n",
    "\n",
    "### Q.\n",
    "이터레이트하는 동안 같은 컬렉션을 수정하면 데이터 무결성이 지켜지지 못해서 그런건가?\n",
    "\n",
    "### A.\n",
    "이터레이터 무효화, 논리적 오류 문제 발생 위험"
   ]
  },
  {
   "cell_type": "code",
   "execution_count": 6,
   "metadata": {},
   "outputs": [
    {
     "data": {
      "text/plain": [
       "[1, 3, 5]"
      ]
     },
     "execution_count": 6,
     "metadata": {},
     "output_type": "execute_result"
    }
   ],
   "source": [
    "# Sol 1. 복사\n",
    "my_lst = [1,2,3,4,5]\n",
    "for item in my_lst[:] :\n",
    "  if item % 2 == 0:\n",
    "    my_lst.remove(item)\n",
    "\n",
    "my_lst"
   ]
  },
  {
   "cell_type": "code",
   "execution_count": 7,
   "metadata": {},
   "outputs": [
    {
     "data": {
      "text/plain": [
       "[1, 3, 5]"
      ]
     },
     "execution_count": 7,
     "metadata": {},
     "output_type": "execute_result"
    }
   ],
   "source": [
    "# Sol 2. 새 컬렉션 만들기\n",
    "my_lst = [1,2,3,4,5]\n",
    "new_lst = [i for i in my_lst if i % 2 != 0] # list comprehension\n",
    "\n",
    "new_lst"
   ]
  },
  {
   "cell_type": "code",
   "execution_count": 1,
   "metadata": {},
   "outputs": [
    {
     "data": {
      "text/plain": [
       "{'Hans': 'active', '홍길동': 'active'}"
      ]
     },
     "execution_count": 1,
     "metadata": {},
     "output_type": "execute_result"
    }
   ],
   "source": [
    "# 공식 문서 예시\n",
    "# 샘플 컬렉션을 만듭니다\n",
    "users = {'Hans': 'active', 'Éléonore': 'inactive', '홍길동': 'active'}\n",
    "\n",
    "# 전략:  사본을 이터레이트\n",
    "for user, status in users.copy().items():\n",
    "    if status == 'inactive':\n",
    "        del users[user]\n",
    "\n",
    "# 전략:  새 컬렉션 만들기\n",
    "active_users = {}\n",
    "for user, status in users.items():\n",
    "    if status == 'active':\n",
    "        active_users[user] = status\n",
    "        \n",
    "users"
   ]
  },
  {
   "attachments": {},
   "cell_type": "markdown",
   "metadata": {},
   "source": [
    "### Q.\n",
    "users.copy()만 쓰는 게 아니라 copy().items()쓰는 이유는 copy()에서 수정하면 원본이 바뀌니까? (Shallow copy랑 헷갈림)\n",
    "\n",
    "### A.\n",
    "copy()는 원본 보호를 위해서 한 거임.\n",
    "copy()만 하면 딕셔너리 복사본만 반환하지 그 안의 값까지 반환하는 게 아님."
   ]
  }
 ],
 "metadata": {
  "kernelspec": {
   "display_name": "Python 3",
   "language": "python",
   "name": "python3"
  },
  "language_info": {
   "codemirror_mode": {
    "name": "ipython",
    "version": 3
   },
   "file_extension": ".py",
   "mimetype": "text/x-python",
   "name": "python",
   "nbconvert_exporter": "python",
   "pygments_lexer": "ipython3",
   "version": "3.12.4"
  },
  "orig_nbformat": 4
 },
 "nbformat": 4,
 "nbformat_minor": 2
}
