{
 "cells": [
  {
   "attachments": {},
   "cell_type": "markdown",
   "metadata": {},
   "source": [
    "컬렉션을 이터레이트 하는 동안 같은 컬렉션을 수정하는 코드는 올바르게 동작하도록 만들기 힘듭니다. 대신, 보통 컬렉션의 복사본으로 루프를 만들거나 새 컬렉션을 만드는 것이 더 간단합니다.\n",
    "\n",
    "### Q.\n",
    "이터레이트하는 동안 같은 컬렉션을 수정하면 데이터 무결성이 지켜지지 못해서 그런건가?\n",
    "\n",
    "### A.\n",
    "이터레이터 무효화, 논리적 오류 문제 발생 위험"
   ]
  },
  {
   "cell_type": "code",
   "execution_count": 6,
   "metadata": {},
   "outputs": [
    {
     "data": {
      "text/plain": [
       "[1, 3, 5]"
      ]
     },
     "execution_count": 6,
     "metadata": {},
     "output_type": "execute_result"
    }
   ],
   "source": [
    "# Sol 1. 복사\n",
    "my_lst = [1,2,3,4,5]\n",
    "for item in my_lst[:] :\n",
    "  if item % 2 == 0:\n",
    "    my_lst.remove(item)\n",
    "\n",
    "my_lst"
   ]
  },
  {
   "cell_type": "code",
   "execution_count": 7,
   "metadata": {},
   "outputs": [
    {
     "data": {
      "text/plain": [
       "[1, 3, 5]"
      ]
     },
     "execution_count": 7,
     "metadata": {},
     "output_type": "execute_result"
    }
   ],
   "source": [
    "# Sol 2. 새 컬렉션 만들기\n",
    "my_lst = [1,2,3,4,5]\n",
    "new_lst = [i for i in my_lst if i % 2 != 0] # list comprehension\n",
    "\n",
    "new_lst"
   ]
  },
  {
   "cell_type": "code",
   "execution_count": 1,
   "metadata": {},
   "outputs": [
    {
     "data": {
      "text/plain": [
       "{'Hans': 'active', '홍길동': 'active'}"
      ]
     },
     "execution_count": 1,
     "metadata": {},
     "output_type": "execute_result"
    }
   ],
   "source": [
    "# 공식 문서 예시\n",
    "# 샘플 컬렉션을 만듭니다\n",
    "users = {'Hans': 'active', 'Éléonore': 'inactive', '홍길동': 'active'}\n",
    "\n",
    "# 전략:  사본을 이터레이트\n",
    "for user, status in users.copy().items():\n",
    "    if status == 'inactive':\n",
    "        del users[user]\n",
    "\n",
    "# 전략:  새 컬렉션 만들기\n",
    "active_users = {}\n",
    "for user, status in users.items():\n",
    "    if status == 'active':\n",
    "        active_users[user] = status\n",
    "        \n",
    "users"
   ]
  },
  {
   "attachments": {},
   "cell_type": "markdown",
   "metadata": {},
   "source": [
    "### Q.\n",
    "users.copy()만 쓰는 게 아니라 copy().items()쓰는 이유는 copy()에서 수정하면 원본이 바뀌니까? (Shallow copy랑 헷갈림)\n",
    "\n",
    "### A.\n",
    "copy()는 원본 보호를 위해서 한 거임.\n",
    "copy()만 하면 딕셔너리 복사본만 반환하지 그 안의 값까지 반환하는 게 아님."
   ]
  },
  {
   "cell_type": "code",
   "execution_count": 13,
   "metadata": {},
   "outputs": [
    {
     "name": "stdout",
     "output_type": "stream",
     "text": [
      "0 1 2 4 8 16 32 64 \n"
     ]
    }
   ],
   "source": [
    "def fib(n):\n",
    "  '''n보다 작은 피보나치 수열을 출력합니다.''' \n",
    "  # Docstrings -> 함수에 대한 정보 등을 기록 / 습관 들일 필요\n",
    "\n",
    "  a,b = 0,1\n",
    "\n",
    "  while a < n :\n",
    "    print(a, end = ' ')\n",
    "    # (1) 정상적인 피보나치 수열\n",
    "    a,b = b,a+b\n",
    "    \n",
    "    # (2) 0 1 2 4 8 16 ... 2n 수열\n",
    "    # a = b\n",
    "    # b += a\n",
    "\n",
    "    \n",
    "  print()\n",
    "\n",
    "fib(100)"
   ]
  },
  {
   "attachments": {},
   "cell_type": "markdown",
   "metadata": {},
   "source": [
    "### Q.\n",
    "분명 구조적으로 같은데 왜 하나는 피보나치고 나머지는 이상한 수열이 나오지?\n",
    "\n",
    "### A.\n",
    "파이썬의 **튜플 언패킹**. `a,b = b, a+b`를 계산하는 과정은\n",
    "  1. `=` 오른쪽의 `b, a+b`를 먼저 **동시에** 계산함. (a = 1,b = 0+1)\n",
    "  2. 그 후 값을 `a,b`에 넣음  \n",
    "\n",
    "하지만 `a = b / b+= a`는 \n",
    "  1. a = 1이 되고, b = 2가 됨\n",
    "  2. a = 2가 되고, b = 4이 됨\n",
    "  3. a = 4, b =  8 ...\n",
    "  \n",
    "이 방식으로 피보나치를 만드려면 중간에 `temp`를 추가해주면 됨.\n",
    "  temp = a\n",
    "  a = b\n",
    "  b += temp\n",
    "\n",
    "### 근데 Pythonic하지 않잖아!!!!!!!!!!!!!!!!!!!!!!!!!!!  "
   ]
  },
  {
   "cell_type": "code",
   "execution_count": null,
   "metadata": {},
   "outputs": [],
   "source": []
  }
 ],
 "metadata": {
  "kernelspec": {
   "display_name": "Python 3",
   "language": "python",
   "name": "python3"
  },
  "language_info": {
   "codemirror_mode": {
    "name": "ipython",
    "version": 3
   },
   "file_extension": ".py",
   "mimetype": "text/x-python",
   "name": "python",
   "nbconvert_exporter": "python",
   "pygments_lexer": "ipython3",
   "version": "3.12.4"
  },
  "orig_nbformat": 4
 },
 "nbformat": 4,
 "nbformat_minor": 2
}
