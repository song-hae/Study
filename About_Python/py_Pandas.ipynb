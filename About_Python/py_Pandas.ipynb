{
 "cells": [
  {
   "cell_type": "code",
   "execution_count": 1,
   "metadata": {},
   "outputs": [],
   "source": [
    "import pandas as pd"
   ]
  },
  {
   "attachments": {},
   "cell_type": "markdown",
   "metadata": {},
   "source": [
    "### 변동률 구하기 (+ Series, DataFrame 구조 이해)"
   ]
  },
  {
   "cell_type": "code",
   "execution_count": 20,
   "metadata": {},
   "outputs": [],
   "source": [
    "path = '/Users/jeonghaesong/Desktop/MyStudy/Study/About_Python/Csvs/롯데케미칼.csv'\n",
    "lotte_chem = pd.read_csv(path,index_col=0)\n",
    "lotte_chem = lotte_chem[lotte_chem.columns[:-1]] "
   ]
  },
  {
   "cell_type": "code",
   "execution_count": 22,
   "metadata": {},
   "outputs": [
    {
     "data": {
      "text/plain": [
       "Date\n",
       "2018-01-02    0.000000\n",
       "2018-01-03    0.006935\n",
       "2018-01-04   -0.038567\n",
       "2018-01-05    0.007163\n",
       "2018-01-08    0.091038\n",
       "Name: Change, dtype: float64"
      ]
     },
     "execution_count": 22,
     "metadata": {},
     "output_type": "execute_result"
    }
   ],
   "source": [
    "# 직접 변동률 구해보기\n",
    "\n",
    "lotte_chem['Change'] = lotte_chem['Close'].pct_change().fillna(0) #결측치 0\n",
    "lotte_chem['Change'].head()\n"
   ]
  },
  {
   "cell_type": "code",
   "execution_count": 23,
   "metadata": {},
   "outputs": [
    {
     "data": {
      "text/html": [
       "<div>\n",
       "<style scoped>\n",
       "    .dataframe tbody tr th:only-of-type {\n",
       "        vertical-align: middle;\n",
       "    }\n",
       "\n",
       "    .dataframe tbody tr th {\n",
       "        vertical-align: top;\n",
       "    }\n",
       "\n",
       "    .dataframe thead th {\n",
       "        text-align: right;\n",
       "    }\n",
       "</style>\n",
       "<table border=\"1\" class=\"dataframe\">\n",
       "  <thead>\n",
       "    <tr style=\"text-align: right;\">\n",
       "      <th></th>\n",
       "      <th>Open</th>\n",
       "      <th>High</th>\n",
       "      <th>Low</th>\n",
       "      <th>Close</th>\n",
       "      <th>Volume</th>\n",
       "      <th>Change</th>\n",
       "    </tr>\n",
       "    <tr>\n",
       "      <th>Date</th>\n",
       "      <th></th>\n",
       "      <th></th>\n",
       "      <th></th>\n",
       "      <th></th>\n",
       "      <th></th>\n",
       "      <th></th>\n",
       "    </tr>\n",
       "  </thead>\n",
       "  <tbody>\n",
       "    <tr>\n",
       "      <th>2018-01-02</th>\n",
       "      <td>368000</td>\n",
       "      <td>370000</td>\n",
       "      <td>360500</td>\n",
       "      <td>360500</td>\n",
       "      <td>92533</td>\n",
       "      <td>0.000000</td>\n",
       "    </tr>\n",
       "    <tr>\n",
       "      <th>2018-01-03</th>\n",
       "      <td>360000</td>\n",
       "      <td>368500</td>\n",
       "      <td>360000</td>\n",
       "      <td>363000</td>\n",
       "      <td>81340</td>\n",
       "      <td>0.006935</td>\n",
       "    </tr>\n",
       "    <tr>\n",
       "      <th>2018-01-04</th>\n",
       "      <td>367500</td>\n",
       "      <td>367500</td>\n",
       "      <td>349000</td>\n",
       "      <td>349000</td>\n",
       "      <td>190391</td>\n",
       "      <td>-0.038567</td>\n",
       "    </tr>\n",
       "    <tr>\n",
       "      <th>2018-01-05</th>\n",
       "      <td>351000</td>\n",
       "      <td>352000</td>\n",
       "      <td>348000</td>\n",
       "      <td>351500</td>\n",
       "      <td>99268</td>\n",
       "      <td>0.007163</td>\n",
       "    </tr>\n",
       "    <tr>\n",
       "      <th>2018-01-08</th>\n",
       "      <td>359000</td>\n",
       "      <td>383500</td>\n",
       "      <td>358000</td>\n",
       "      <td>383500</td>\n",
       "      <td>490208</td>\n",
       "      <td>0.091038</td>\n",
       "    </tr>\n",
       "    <tr>\n",
       "      <th>...</th>\n",
       "      <td>...</td>\n",
       "      <td>...</td>\n",
       "      <td>...</td>\n",
       "      <td>...</td>\n",
       "      <td>...</td>\n",
       "      <td>...</td>\n",
       "    </tr>\n",
       "    <tr>\n",
       "      <th>2021-12-16</th>\n",
       "      <td>233000</td>\n",
       "      <td>234000</td>\n",
       "      <td>224500</td>\n",
       "      <td>228000</td>\n",
       "      <td>144647</td>\n",
       "      <td>-0.012987</td>\n",
       "    </tr>\n",
       "    <tr>\n",
       "      <th>2021-12-17</th>\n",
       "      <td>227000</td>\n",
       "      <td>235000</td>\n",
       "      <td>226500</td>\n",
       "      <td>234500</td>\n",
       "      <td>138945</td>\n",
       "      <td>0.028509</td>\n",
       "    </tr>\n",
       "    <tr>\n",
       "      <th>2021-12-20</th>\n",
       "      <td>232000</td>\n",
       "      <td>233500</td>\n",
       "      <td>228000</td>\n",
       "      <td>229500</td>\n",
       "      <td>90630</td>\n",
       "      <td>-0.021322</td>\n",
       "    </tr>\n",
       "    <tr>\n",
       "      <th>2021-12-21</th>\n",
       "      <td>232000</td>\n",
       "      <td>232500</td>\n",
       "      <td>227000</td>\n",
       "      <td>229500</td>\n",
       "      <td>98669</td>\n",
       "      <td>0.000000</td>\n",
       "    </tr>\n",
       "    <tr>\n",
       "      <th>2021-12-22</th>\n",
       "      <td>229000</td>\n",
       "      <td>230000</td>\n",
       "      <td>225000</td>\n",
       "      <td>225000</td>\n",
       "      <td>99419</td>\n",
       "      <td>-0.019608</td>\n",
       "    </tr>\n",
       "  </tbody>\n",
       "</table>\n",
       "<p>980 rows × 6 columns</p>\n",
       "</div>"
      ],
      "text/plain": [
       "              Open    High     Low   Close  Volume    Change\n",
       "Date                                                        \n",
       "2018-01-02  368000  370000  360500  360500   92533  0.000000\n",
       "2018-01-03  360000  368500  360000  363000   81340  0.006935\n",
       "2018-01-04  367500  367500  349000  349000  190391 -0.038567\n",
       "2018-01-05  351000  352000  348000  351500   99268  0.007163\n",
       "2018-01-08  359000  383500  358000  383500  490208  0.091038\n",
       "...            ...     ...     ...     ...     ...       ...\n",
       "2021-12-16  233000  234000  224500  228000  144647 -0.012987\n",
       "2021-12-17  227000  235000  226500  234500  138945  0.028509\n",
       "2021-12-20  232000  233500  228000  229500   90630 -0.021322\n",
       "2021-12-21  232000  232500  227000  229500   98669  0.000000\n",
       "2021-12-22  229000  230000  225000  225000   99419 -0.019608\n",
       "\n",
       "[980 rows x 6 columns]"
      ]
     },
     "execution_count": 23,
     "metadata": {},
     "output_type": "execute_result"
    }
   ],
   "source": [
    "# 함수\n",
    "def get_change(df):\n",
    "  df_close = df['Close']\n",
    "  df['Change'] = df_close.pct_change().fillna(0)\n",
    "  return df\n",
    "\n",
    "get_change(lotte_chem)"
   ]
  },
  {
   "attachments": {},
   "cell_type": "markdown",
   "metadata": {},
   "source": [
    "#### 주의\n",
    "\n",
    "`df['Close]`는 Series로 반환됨. -> 만약 이를 DataFrame으로 반환된다고 착각했을 때 문제가 생길 수 있음.\n",
    "\n",
    "따라서 만약 `df_close`에 `Change` 컬럼을 추가하는 등의 실수 시 컬럼이 하나인 Series의 특성 상 원치 않는 결과가 나올 수 있음.. (알고 싶지 않았음)"
   ]
  },
  {
   "attachments": {},
   "cell_type": "markdown",
   "metadata": {},
   "source": []
  }
 ],
 "metadata": {
  "kernelspec": {
   "display_name": "Python 3",
   "language": "python",
   "name": "python3"
  },
  "language_info": {
   "codemirror_mode": {
    "name": "ipython",
    "version": 3
   },
   "file_extension": ".py",
   "mimetype": "text/x-python",
   "name": "python",
   "nbconvert_exporter": "python",
   "pygments_lexer": "ipython3",
   "version": "3.12.4"
  },
  "orig_nbformat": 4
 },
 "nbformat": 4,
 "nbformat_minor": 2
}
